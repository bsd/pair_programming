{
 "cells": [
  {
   "cell_type": "code",
   "execution_count": 1,
   "metadata": {},
   "outputs": [],
   "source": [
    "%run -i 'adroll_api'\n",
    "%run -i 'facebook_api'\n",
    "%run -i 'google_sheets'\n",
    "%run -i 'gcp_storage'\n",
    "# %run -i 'main'\n",
    "\n",
    "import pandas as pd\n",
    "import numpy as np\n",
    "import time\n",
    "import datetime\n",
    "import csv\n",
    "from io import StringIO\n",
    "from calendar import monthrange\n"
   ]
  },
  {
   "cell_type": "code",
   "execution_count": 2,
   "metadata": {},
   "outputs": [],
   "source": [
    "get_advertisables = 'api/v1/organization/get_advertisables'\n",
    "get_adgroups = 'api/v1/advertisable/get_adgroups'\n",
    "get_campaigns = 'api/v1/advertisable/get_campaigns'\n",
    "get_ads = 'api/v1/advertisable/get_ads'\n",
    "\n",
    "advertisable_eid = 'CJG6Y263JBCNXM4UR2QNCB'\n",
    "adrObj = Adroll_Requests(advertisable_eid)\n",
    "\n",
    "bucket_name = \"unhcruk-data\"\n",
    "gcpObj = GCP_Storage(bucket_name)\n",
    "\n",
    "campaigns_json = adrObj.getInfo(get_campaigns)\n",
    "# adgroups_json = adrObj.getInfo(get_adgroups)\n",
    "# ads_json = adrObj.getInfo(get_ads)\n",
    "\n",
    "directory = 'adroll'\n",
    "\n",
    "start_d = '2021-07-12'\n",
    "end_d = (datetime.date.today() - datetime.timedelta(days = 1)).strftime(\"%Y-%m-%d\")\n",
    "dates = [i.strftime(\"%Y-%m-%d\") for i in pd.date_range(start_d, end_d)]\n",
    "\n",
    "# results_json = adrObj.getResults(start_date, end_date)\n"
   ]
  },
  {
   "cell_type": "code",
   "execution_count": 3,
   "metadata": {
    "scrolled": true
   },
   "outputs": [
    {
     "name": "stdout",
     "output_type": "stream",
     "text": [
      "2021-07-12\n",
      "File adroll_2021-07-12.csv uploaded to adroll_2021-07-12.csv.\n"
     ]
    }
   ],
   "source": [
    "for start_date in dates:\n",
    "    \n",
    "    print(start_date)\n",
    "    \n",
    "    end_date = str(np.datetime64(start_date, 'D') + 1)\n",
    "\n",
    "    results_json = adrObj.getResults(start_date, end_date)\n",
    "    \n",
    "    if len(results_json['results']['entity']) > 1 :\n",
    "        report = adrObj.report(results_json, campaigns_json, start_date)        \n",
    "    \n",
    "    else:\n",
    "        print('no_data')\n",
    "        report = pd.DataFrame(columns=['date', 'campaign_name', 'spend', 'impressions', 'site'])\n",
    "        report['date'] = start_date\n",
    "\n",
    "    destination_blob_name = 'adroll_{0}.csv'.format(start_date)\n",
    "    file_name = 'adroll_{0}.csv'.format(start_date)\n",
    "    gcpObj.storage_from_filename(report, directory, file_name, destination_blob_name, content_type='text/csv')\n",
    "\n",
    "        \n",
    "    time.sleep(1)\n",
    "    "
   ]
  },
  {
   "cell_type": "code",
   "execution_count": 4,
   "metadata": {},
   "outputs": [
    {
     "name": "stdout",
     "output_type": "stream",
     "text": [
      "File zeta_global.csv uploaded to zeta_global.csv.\n"
     ]
    }
   ],
   "source": [
    "# Get Zeta's data\n",
    "bucket_name = \"zeta-unhcr\"\n",
    "source_blob_name = 'UNHCR_SpendReport.csv'\n",
    "gcpObj = GCP_Storage(bucket_name)\n",
    "b_file = gcpObj.get_storage_data(source_blob_name)\n",
    "\n",
    "# Create dataframe witj Zeta's data\n",
    "s=str(b_file,'utf-8')\n",
    "data = StringIO(s) \n",
    "report=pd.read_csv(data)\n",
    "\n",
    "# Add the required columns\n",
    "report = report.rename(columns={'campaign': 'campaign_name'})\n",
    "report['impressions'] = 0\n",
    "report['site'] = 'Zeta Global'\n",
    "report = report[['date', 'campaign_name', 'spend', 'impressions', 'site']]\n",
    "\n",
    "# Upload Zeta's report\n",
    "bucket_name = \"unhcruk-data\"\n",
    "destination_blob_name = 'zeta_global.csv'\n",
    "file_name = 'zeta_global.csv'\n",
    "directory = 'zeta'\n",
    "gcpObj = GCP_Storage(bucket_name)\n",
    "gcpObj.storage_from_filename(report, directory, file_name, destination_blob_name, content_type='text/csv')"
   ]
  },
  {
   "cell_type": "code",
   "execution_count": 5,
   "metadata": {},
   "outputs": [
    {
     "name": "stdout",
     "output_type": "stream",
     "text": [
      "File facebook_2021-07-01_2021-07-31.csv uploaded to facebook_2021-07-01_2021-07-31.csv.\n"
     ]
    }
   ],
   "source": [
    "d = pd.to_datetime(start_date).day\n",
    "m = pd.to_datetime(start_date).month\n",
    "y = pd.to_datetime(start_date).year\n",
    "\n",
    "from_date = '{0}-{1}-{2}'.format(y, m, '1')\n",
    "num_days = monthrange(y, m)[1]\n",
    "to_date = '{0}-{1}-{2}'.format(y, m, num_days)\n",
    "\n",
    "ad_account = 'act_2010817465893182'\n",
    "from_date = '2021-07-01'\n",
    "to_date = '2021-07-31'\n",
    "\n",
    "directory = 'facebook'\n",
    "bucket_name = \"unhcruk-data\"\n",
    "\n",
    "fbObj = facebook_api(ad_account)\n",
    "gcpObj = GCP_Storage(bucket_name)\n",
    "\n",
    "insights_df = fbObj.ads_results(ad_account, from_date, to_date)\n",
    "insights = fbObj.report(insights_df)\n",
    "\n",
    "destination_blob_name = 'facebook_{0}_{1}.csv'.format(from_date, to_date)\n",
    "file_name = 'facebook_{0}_{1}.csv'.format(from_date, to_date)\n",
    "gcpObj.storage_from_filename(insights, directory, file_name, destination_blob_name, content_type='text/csv')\n"
   ]
  },
  {
   "cell_type": "code",
   "execution_count": 6,
   "metadata": {},
   "outputs": [],
   "source": [
    "# spreadsheet_id_fb = '1LedwAoLTPqUs6jDDadUtMCNI_ACQ_Svxcs3mzl4aJg8'\n",
    "\n",
    "# gsObj = google_sheets()\n",
    "# ads_results_gs = gsObj.transform_data(insights_df)\n",
    "# gsObj.push_ga(spreadsheet_id_fb, ads_results_gs, spreadsheet_name='facebook', time='next')"
   ]
  },
  {
   "cell_type": "code",
   "execution_count": null,
   "metadata": {},
   "outputs": [],
   "source": []
  },
  {
   "cell_type": "code",
   "execution_count": null,
   "metadata": {},
   "outputs": [],
   "source": []
  },
  {
   "cell_type": "code",
   "execution_count": null,
   "metadata": {},
   "outputs": [],
   "source": []
  },
  {
   "cell_type": "code",
   "execution_count": null,
   "metadata": {},
   "outputs": [],
   "source": []
  }
 ],
 "metadata": {
  "kernelspec": {
   "display_name": "Python 3",
   "language": "python",
   "name": "python3"
  },
  "language_info": {
   "codemirror_mode": {
    "name": "ipython",
    "version": 3
   },
   "file_extension": ".py",
   "mimetype": "text/x-python",
   "name": "python",
   "nbconvert_exporter": "python",
   "pygments_lexer": "ipython3",
   "version": "3.7.4"
  }
 },
 "nbformat": 4,
 "nbformat_minor": 2
}
