{
 "cells": [
  {
   "cell_type": "code",
   "execution_count": 1,
   "metadata": {},
   "outputs": [],
   "source": [
    "%run -i 'facebook_api'\n",
    "%run -i 'gcp_storage'\n",
    "\n",
    "import csv\n"
   ]
  },
  {
   "cell_type": "code",
   "execution_count": 2,
   "metadata": {
    "scrolled": true
   },
   "outputs": [
    {
     "name": "stdout",
     "output_type": "stream",
     "text": [
      "File facebook_2021-07-01_2021-07-31.csv uploaded to facebook_2021-07-01_2021-07-31.csv.\n"
     ]
    }
   ],
   "source": [
    "ad_account = 'act_2010817465893182'\n",
    "from_date = '2021-07-01'\n",
    "to_date = '2021-07-31'\n",
    "\n",
    "directory = 'facebook'\n",
    "bucket_name = \"unhcruk-data\"\n",
    "\n",
    "fbObj = facebook_api(ad_account)\n",
    "gcpObj = GCP_Storage(bucket_name)\n",
    "\n",
    "insights_df = fbObj.ads_results(ad_account, from_date, to_date)\n",
    "insights = fbObj.report(insights_df)\n",
    "\n",
    "destination_blob_name = 'facebook_{0}_{1}.csv'.format(from_date, to_date)\n",
    "file_name = 'facebook_{0}_{1}.csv'.format(from_date, to_date)\n",
    "gcpObj.storage_from_filename(insights, directory, file_name, destination_blob_name, content_type='text/csv')\n",
    "\n"
   ]
  },
  {
   "cell_type": "code",
   "execution_count": 3,
   "metadata": {},
   "outputs": [],
   "source": [
    "# spreadsheet_id_fb = '1LedwAoLTPqUs6jDDadUtMCNI_ACQ_Svxcs3mzl4aJg8'\n",
    "\n",
    "# gsObj = google_sheets()\n",
    "# ads_results_gs = gsObj.transform_data(insights_df)\n",
    "# gsObj.push_ga(spreadsheet_id_fb, ads_results_gs, spreadsheet_name='facebook', time='next')"
   ]
  },
  {
   "cell_type": "code",
   "execution_count": null,
   "metadata": {},
   "outputs": [],
   "source": []
  },
  {
   "cell_type": "code",
   "execution_count": null,
   "metadata": {},
   "outputs": [],
   "source": []
  },
  {
   "cell_type": "code",
   "execution_count": null,
   "metadata": {},
   "outputs": [],
   "source": []
  },
  {
   "cell_type": "code",
   "execution_count": null,
   "metadata": {},
   "outputs": [],
   "source": []
  }
 ],
 "metadata": {
  "kernelspec": {
   "display_name": "Python 3",
   "language": "python",
   "name": "python3"
  },
  "language_info": {
   "codemirror_mode": {
    "name": "ipython",
    "version": 3
   },
   "file_extension": ".py",
   "mimetype": "text/x-python",
   "name": "python",
   "nbconvert_exporter": "python",
   "pygments_lexer": "ipython3",
   "version": "3.7.4"
  }
 },
 "nbformat": 4,
 "nbformat_minor": 2
}
