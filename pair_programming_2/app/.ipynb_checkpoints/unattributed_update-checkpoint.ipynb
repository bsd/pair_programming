{
 "cells": [
  {
   "cell_type": "code",
   "execution_count": 1,
   "metadata": {},
   "outputs": [],
   "source": [
    "import pandas as pd\n",
    "import numpy as np\n",
    "import csv\n",
    "import datetime\n",
    "\n",
    "%run -i 'cm360_api'\n",
    "%run -i 'gcp_storage'\n",
    "\n",
    "# %run -i 'main'\n"
   ]
  },
  {
   "cell_type": "code",
   "execution_count": 2,
   "metadata": {},
   "outputs": [
    {
     "data": {
      "text/plain": [
       "['2021-07-28', '2021-07-29', '2021-07-30', '2021-07-31', '2021-08-01']"
      ]
     },
     "execution_count": 2,
     "metadata": {},
     "output_type": "execute_result"
    }
   ],
   "source": [
    "date =  (datetime.date.today() - datetime.timedelta(days = 1)).strftime(\"%Y-%m-%d\")\n",
    "\n",
    "cmObj = CM360_Requests()\n",
    "\n",
    "# CM360 IDs\n",
    "profile_id = 6562732\n",
    "report_id = '845885278'\n",
    "\n",
    "# Get list of files\n",
    "response = cmObj.get_files(profile_id)\n",
    "\n",
    "# Get dates\n",
    "bucket_name = 'unhcruk-data'\n",
    "\n",
    "gcpObj = GCP_Storage(bucket_name)    \n",
    "dates = gcpObj.get_dates(date, prefix = 'all_sites/unattributed_conversions_')\n",
    "dates"
   ]
  },
  {
   "cell_type": "code",
   "execution_count": 3,
   "metadata": {},
   "outputs": [
    {
     "name": "stdout",
     "output_type": "stream",
     "text": [
      "File 3381665533 downloaded to /private/tmp/unattributed/unattributed_conversions.csv\n",
      "File unattributed_conversions_2021-07-28 uploaded to all_sites/unattributed_conversions_2021-07-28.csv.\n",
      "File 3382702143 downloaded to /private/tmp/unattributed/unattributed_conversions.csv\n",
      "File unattributed_conversions_2021-07-29 uploaded to all_sites/unattributed_conversions_2021-07-29.csv.\n",
      "File 3383718829 downloaded to /private/tmp/unattributed/unattributed_conversions.csv\n",
      "File unattributed_conversions_2021-07-30 uploaded to all_sites/unattributed_conversions_2021-07-30.csv.\n",
      "File 3384724583 downloaded to /private/tmp/unattributed/unattributed_conversions.csv\n",
      "File unattributed_conversions_2021-07-31 uploaded to all_sites/unattributed_conversions_2021-07-31.csv.\n",
      "File 3385739876 downloaded to /private/tmp/unattributed/unattributed_conversions.csv\n",
      "File unattributed_conversions_2021-08-01 uploaded to all_sites/unattributed_conversions_2021-08-01.csv.\n"
     ]
    }
   ],
   "source": [
    "# Download report\n",
    "directory = 'unattributed'\n",
    "\n",
    "for end_date in dates:\n",
    "    \n",
    "    # Get file_id\n",
    "    file_id = [i['id'] for i in response['items'] \n",
    "               if (i['dateRange']['endDate'] == end_date) & (i['reportId'] == report_id)][0]\n",
    "    \n",
    "    cmObj.download_report(directory, report_id, file_id)\n",
    "    \n",
    "    # Transform report and download it to temp location\n",
    "    # Get file and save it again skipping the first rows\n",
    "    conversions = pd.read_csv('/private/tmp/unattributed/unattributed_conversions.csv', skiprows=14)\n",
    "\n",
    "    # Add rows with 0 values in case a type of conversion doesn't exist for the dat\n",
    "    zero_df = pd.DataFrame(np.array([[None, end_date, 'oneoff', 0, 0, 0], \n",
    "                                 [None, end_date, 'monthly', 0, 0, 0]]), \n",
    "                           columns=conversions.columns)\n",
    "    conversions = conversions.append(zero_df)\n",
    "\n",
    "    unattri_conv = conversions.copy(deep=True)[conversions['Site (CM360)'].isna()]\\\n",
    "                              .reset_index(drop=True)\n",
    "\n",
    "    # Group report by date so a pivot can be created\n",
    "    grouped = unattri_conv.groupby(['Date', 'Donation Type (string)'])['Total Conversions', 'Total Revenue']\\\n",
    "                          .sum()\\\n",
    "                          .reset_index()\n",
    "\n",
    "\n",
    "    # Create pivot to have donation type as columns\n",
    "    unattributed = grouped.pivot(index='Date', columns='Donation Type (string)', \n",
    "                                 values=['Total Conversions', 'Total Revenue'])\\\n",
    "                          .droplevel(0, axis=1)\\\n",
    "                          .reset_index()\\\n",
    "                          .fillna(0)\n",
    "\n",
    "    unattributed.columns = ['date', 'monthly_donations', 'one_off_donations', 'mohtly_revenue', 'one_off_revenue']\n",
    "\n",
    "    # Create missing columns\n",
    "    unattributed['campaign_name'] = 'unattributed'\n",
    "    unattributed['spend'] = 0\n",
    "    unattributed['impressions'] = 0\n",
    "    unattributed['clicks'] = 0\n",
    "    unattributed['site'] = 'unattributed'\n",
    "\n",
    "    # Order columns so they have the same order as all files in unhcruk-data/all_sites \n",
    "    unattributed = unattributed[['date', 'campaign_name', 'spend', 'impressions', 'clicks', \n",
    "                                 'one_off_donations', 'one_off_revenue', 'monthly_donations', 'mohtly_revenue',  \n",
    "                                 'site']]\n",
    "    \n",
    "    # Upload report to Storage\n",
    "    file_name = 'unattributed_conversions_{0}'.format(end_date)\n",
    "\n",
    "    bucket_name = \"unhcruk-data\"\n",
    "    destination_blob_name = 'all_sites/{0}.csv'.format(file_name)\n",
    "\n",
    "    gcpObj = GCP_Storage(bucket_name)\n",
    "    gcpObj.storage_from_filename(unattributed, directory, file_name, destination_blob_name, content_type='text/csv')\n",
    "    "
   ]
  },
  {
   "cell_type": "code",
   "execution_count": null,
   "metadata": {},
   "outputs": [],
   "source": []
  },
  {
   "cell_type": "code",
   "execution_count": null,
   "metadata": {},
   "outputs": [],
   "source": []
  },
  {
   "cell_type": "code",
   "execution_count": null,
   "metadata": {},
   "outputs": [],
   "source": []
  },
  {
   "cell_type": "code",
   "execution_count": null,
   "metadata": {},
   "outputs": [],
   "source": []
  }
 ],
 "metadata": {
  "kernelspec": {
   "display_name": "Python 3",
   "language": "python",
   "name": "python3"
  },
  "language_info": {
   "codemirror_mode": {
    "name": "ipython",
    "version": 3
   },
   "file_extension": ".py",
   "mimetype": "text/x-python",
   "name": "python",
   "nbconvert_exporter": "python",
   "pygments_lexer": "ipython3",
   "version": "3.7.4"
  }
 },
 "nbformat": 4,
 "nbformat_minor": 2
}
